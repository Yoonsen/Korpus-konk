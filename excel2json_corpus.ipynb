{
 "cells": [
  {
   "cell_type": "code",
   "execution_count": 1,
   "id": "c7a90214-ce20-49be-a683-1c6954db5a53",
   "metadata": {},
   "outputs": [],
   "source": [
    "import dhlab as dh"
   ]
  },
  {
   "cell_type": "code",
   "execution_count": 2,
   "id": "e8cd9b31-21c9-4918-8baf-0c1cba990278",
   "metadata": {},
   "outputs": [],
   "source": [
    "import pandas as pd"
   ]
  },
  {
   "cell_type": "code",
   "execution_count": 4,
   "id": "598d6e97-a0e4-495e-a235-78118f180634",
   "metadata": {},
   "outputs": [],
   "source": [
    "a = pd.read_excel(\"imag_korpus.xlsx\")"
   ]
  },
  {
   "cell_type": "code",
   "execution_count": 12,
   "id": "4bc97f28-b662-4a23-8122-51a3f1740e37",
   "metadata": {},
   "outputs": [],
   "source": [
    "a[['dhlabid']].rename(columns={\"dhlabid\":\"dhlabids\"}).to_json(\"corpus.json\")"
   ]
  }
 ],
 "metadata": {
  "kernelspec": {
   "display_name": "Python 3 (ipykernel)",
   "language": "python",
   "name": "python3"
  },
  "language_info": {
   "codemirror_mode": {
    "name": "ipython",
    "version": 3
   },
   "file_extension": ".py",
   "mimetype": "text/x-python",
   "name": "python",
   "nbconvert_exporter": "python",
   "pygments_lexer": "ipython3",
   "version": "3.11.5"
  }
 },
 "nbformat": 4,
 "nbformat_minor": 5
}
