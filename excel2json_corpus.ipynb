{
 "cells": [
  {
   "cell_type": "code",
   "execution_count": 14,
   "id": "e8cd9b31-21c9-4918-8baf-0c1cba990278",
   "metadata": {},
   "outputs": [],
   "source": [
    "import pandas as pd\n",
    "import json"
   ]
  },
  {
   "cell_type": "code",
   "execution_count": 16,
   "id": "598d6e97-a0e4-495e-a235-78118f180634",
   "metadata": {},
   "outputs": [],
   "source": [
    "df = pd.read_excel(\"imag_korpus.xlsx\")"
   ]
  },
  {
   "cell_type": "code",
   "execution_count": 24,
   "id": "5c6848e6-88d0-4999-8678-42a5980b36e8",
   "metadata": {},
   "outputs": [],
   "source": [
    "with open(\"corpus.json\", \"w\") as fp:\n",
    "    json.dump({\"dhlabids\": df['dhlabid'].tolist()}, fp)"
   ]
  }
 ],
 "metadata": {
  "kernelspec": {
   "display_name": "Python 3 (ipykernel)",
   "language": "python",
   "name": "python3"
  },
  "language_info": {
   "codemirror_mode": {
    "name": "ipython",
    "version": 3
   },
   "file_extension": ".py",
   "mimetype": "text/x-python",
   "name": "python",
   "nbconvert_exporter": "python",
   "pygments_lexer": "ipython3",
   "version": "3.11.5"
  }
 },
 "nbformat": 4,
 "nbformat_minor": 5
}
